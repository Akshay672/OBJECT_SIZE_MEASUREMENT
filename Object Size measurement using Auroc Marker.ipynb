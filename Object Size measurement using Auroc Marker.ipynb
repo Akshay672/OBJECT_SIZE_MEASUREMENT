{
 "cells": [
  {
   "cell_type": "code",
   "execution_count": 1,
   "id": "aea44dea",
   "metadata": {},
   "outputs": [],
   "source": [
    "#Importing the necessary libraries"
   ]
  },
  {
   "cell_type": "code",
   "execution_count": 2,
   "id": "24bc11f2",
   "metadata": {},
   "outputs": [],
   "source": [
    "import cv2\n",
    "from object_detector import*\n",
    "import numpy as np\n",
    "import cv2.aruco as aruco"
   ]
  },
  {
   "cell_type": "code",
   "execution_count": 3,
   "id": "1935f329",
   "metadata": {},
   "outputs": [
    {
     "name": "stdout",
     "output_type": "stream",
     "text": [
      "Name: object-detection\n",
      "Version: 0.0.3\n",
      "Summary: A package build from Tensorflow's object detection API.\n",
      "Home-page: https://github.com/brandonschabell/models/tree/master/research/object_detection\n",
      "Author: Brandon Schabell\n",
      "Author-email: brandonschabell@gmail.com\n",
      "License: Apache License 2.0\n",
      "Location: c:\\users\\dell\\anaconda3\\envs\\dl_env\\lib\\site-packages\n",
      "Requires: matplotlib, pillow, jupyter, lxml, tensorflow, contextlib2, Cython\n",
      "Required-by: \n",
      "Note: you may need to restart the kernel to use updated packages.\n"
     ]
    }
   ],
   "source": [
    "pip show object-detection"
   ]
  },
  {
   "cell_type": "code",
   "execution_count": 3,
   "id": "5bf3690d",
   "metadata": {},
   "outputs": [],
   "source": [
    "#OpenCV allows a straightforward interface to capture live stream with the camera (webcam). \n",
    "#It converts video into grayscale and display it.\n",
    "cap=cv2.VideoCapture(0)\n",
    "#The cap.read() returns a boolean value(True/False).It will return True, if the frame is read correctly.\n",
    "\n",
    "\n",
    "#cap.set(cv2.CAP_PROP_FRAME_WIDTH,1280)\n",
    "#cap.set(cv2.CAP_PROP_FRAME_WIDTH,720)"
   ]
  },
  {
   "cell_type": "code",
   "execution_count": 4,
   "id": "fc559db1",
   "metadata": {},
   "outputs": [],
   "source": [
    "#What is Auroc Marker?\n",
    "\n",
    "#ArUco stands for Augmented Reality University of Cordoba. That is where it was developed in Spain.\n",
    "\n",
    "#An aruco marker is a fiducial marker that is placed on the object or scene being imaged. \n",
    "#It is a binary square with black background and boundaries and a white generated pattern within it that uniquely identifies it.\n",
    "\n",
    "\n",
    "#The black boundary helps making their detection easier. \n",
    "#They can be generated in a variety of sizes. \n",
    "#The size is chosen based on the object size and the scene, for a successful detection.\n",
    "\n",
    "\n",
    "#We are using Aurco marker as our reference object"
   ]
  },
  {
   "cell_type": "code",
   "execution_count": 5,
   "id": "0dc105db",
   "metadata": {},
   "outputs": [],
   "source": [
    "#for this research we have selected the Aurco marker which is 5 x 5 cm"
   ]
  },
  {
   "cell_type": "code",
   "execution_count": 6,
   "id": "a595395e",
   "metadata": {},
   "outputs": [],
   "source": [
    "parameters = cv2.aruco.DetectorParameters_create()\n",
    "#cv2.aruco.detectMarkers to detect tags for the current arucoDict in the input image\n",
    "\n",
    "\n",
    "aurco_dict=cv2.aruco.Dictionary_get(cv2.aruco.DICT_5X5_50)\n",
    "#once detected we are loading the it using the cv2.aruco.Dictionary_get"
   ]
  },
  {
   "cell_type": "code",
   "execution_count": 7,
   "id": "b0c6501a",
   "metadata": {},
   "outputs": [],
   "source": [
    "# Load Object Detector\n",
    "detector = HomogeneousBgDetector()#detection for the other objects "
   ]
  },
  {
   "cell_type": "code",
   "execution_count": 8,
   "id": "4ccbc8a8",
   "metadata": {},
   "outputs": [],
   "source": [
    "#Stage 1"
   ]
  },
  {
   "cell_type": "code",
   "execution_count": 9,
   "id": "7ea7901b",
   "metadata": {},
   "outputs": [],
   "source": [
    "while(True):\n",
    "    _,img1 = cap.read()\n",
    "    # Get Aruco marker\n",
    "    corners, _, _ = cv2.aruco.detectMarkers(img1, aurco_dict, parameters=parameters)#We need to detect the aruco marker in the photo and only obtain the corners.\n",
    "    # Draw polygon around the marker\n",
    "    if corners:\n",
    "        int_corners = np.int0(corners)#Signed integer type\n",
    "        #cv2.polylines(img1, int_corners, True, (0, 255, 0), 5)#We draw a polygon around the marker to make sure we have identified it correctly.\n",
    "        # Aruco Perimeter : perimeter formula : 4 x (side)\n",
    "        \n",
    "        #We know that the Aruco marker used is a square with 5 cm per side so we have a perimeter of 20 cm\n",
    "        aruco_perimeter = cv2.arcLength(corners[0], True)\n",
    "        # Pixel to cm ratio\n",
    "        pixel_cm_ratio = aruco_perimeter / 20\n",
    "        contours = detector.detect_objects(img1)#A contour is the line which defines a form or edge - an outline.\n",
    "        # Draw objects boundaries\n",
    "        \n",
    "        #Within the for loop relating to the contours of the objects, among other things, \n",
    "        #also two parameters h and w that correspond to the height and width are extracted.\n",
    "        \n",
    "        #Applying the calculation of the ratio to these two variables we obtain the centimeters.\n",
    "        for cnt in contours:\n",
    "        # Get rect\n",
    "            rect = cv2.minAreaRect(cnt)\n",
    "            (x, y), (w, h), angle = rect\n",
    "            # Get Width and Height of the Objects by applying the Ratio pixel to cm\n",
    "            \n",
    "            #Convert pixels to cm of objects\n",
    "            object_width = w / pixel_cm_ratio\n",
    "            object_height = h / pixel_cm_ratio\n",
    "            \n",
    "            #display the rectangle\n",
    "            box = cv2.boxPoints(rect)\n",
    "            box = np.int0(box)#converting the float to integer numbers\n",
    "            #Draw polygon\n",
    "            cv2.polylines(img1,[box],True,(0,0,255),2)\n",
    "            \n",
    "            #we just have to print the result on the screen\n",
    "            cv2.putText(img1, \"Width {} cm\".format(round(object_width, 1)), (int(x - 100), int(y - 20)), cv2.FONT_HERSHEY_PLAIN, 2, (100, 200, 0), 2)\n",
    "            cv2.putText(img1, \"Height {} cm\".format(round(object_height, 1)), (int(x - 100), int(y + 15)), cv2.FONT_HERSHEY_PLAIN, 2, (100, 200, 0), 2)\n",
    "\n",
    "    \n",
    "    cv2.imshow('image', img1) \n",
    "  \n",
    "    # Maintain output window utill\n",
    "    # user presses a key\n",
    "    key=cv2.waitKey(1)\n",
    "    if key == 27:\n",
    "        break\n",
    "cap.release()\n",
    "# Destroying present windows on screen\n",
    "cv2.destroyAllWindows() "
   ]
  },
  {
   "cell_type": "code",
   "execution_count": 10,
   "id": "08b35d5e",
   "metadata": {},
   "outputs": [],
   "source": [
    "#Stage 2"
   ]
  },
  {
   "cell_type": "code",
   "execution_count": 11,
   "id": "4df88031",
   "metadata": {},
   "outputs": [],
   "source": [
    "#focous only on one object instead of multiple objects"
   ]
  },
  {
   "cell_type": "code",
   "execution_count": 12,
   "id": "5c24e392",
   "metadata": {},
   "outputs": [],
   "source": [
    "#OpenCV allows a straightforward interface to capture live stream with the camera (webcam). \n",
    "#It converts video into grayscale and display it.\n",
    "cap=cv2.VideoCapture(0)\n",
    "#The cap.read() returns a boolean value(True/False).It will return True, if the frame is read correctly.\n",
    "\n",
    "\n",
    "#cap.set(cv2.CAP_PROP_FRAME_WIDTH,1280)\n",
    "#cap.set(cv2.CAP_PROP_FRAME_WIDTH,720)"
   ]
  },
  {
   "cell_type": "code",
   "execution_count": 13,
   "id": "720b5e7d",
   "metadata": {
    "scrolled": true
   },
   "outputs": [
    {
     "name": "stdout",
     "output_type": "stream",
     "text": [
      "[[0 0]\n",
      " [0 0]]\n"
     ]
    }
   ],
   "source": [
    " # Create point matrix get coordinates of mouse click on image\n",
    "point_matrix = np.zeros((2,2),np.int)\n",
    "print(point_matrix)"
   ]
  },
  {
   "cell_type": "code",
   "execution_count": 14,
   "id": "afeabf8d",
   "metadata": {},
   "outputs": [],
   "source": [
    "counter = 0\n",
    "def mousePoints(event,x,y,flags,params):\n",
    "    global counter\n",
    "    # Left button mouse click event opencv\n",
    "    if event == cv2.EVENT_LBUTTONDOWN:\n",
    "        point_matrix[counter] = x,y\n",
    "        counter = counter + 1\n",
    " \n",
    " \n",
    "while True:\n",
    "    _,img = cap.read()\n",
    "    for x in range (0,2):\n",
    "        cv2.circle(img,(point_matrix[x][0],point_matrix[x][1]),3,(0,255,0),cv2.FILLED)\n",
    " \n",
    "    if counter == 2:\n",
    "        starting_x = point_matrix[0][0]\n",
    "        starting_y = point_matrix[0][1]\n",
    " \n",
    "        ending_x = point_matrix[1][0]\n",
    "        ending_y = point_matrix[1][1]\n",
    "        # Draw rectangle for area of interest\n",
    "        cv2.rectangle(img, (starting_x, starting_y), (ending_x, ending_y), (0, 255, 0), 3)\n",
    " \n",
    "        # Cropping image\n",
    "        img_cropped = img[starting_y:ending_y, starting_x:ending_x]\n",
    "        corners, _, _ = cv2.aruco.detectMarkers(img_cropped, aurco_dict, parameters=parameters)\n",
    "        # Draw polygon around the marker\n",
    "        if corners:\n",
    "            int_corners = np.int0(corners)\n",
    "            cv2.polylines(img_cropped, int_corners, True, (0, 255, 0), 5)\n",
    "            # Aruco Perimeter\n",
    "            aruco_perimeter = cv2.arcLength(corners[0], True)\n",
    "            # Pixel to cm ratio\n",
    "            pixel_cm_ratio = aruco_perimeter / 20\n",
    "            contours = detector.detect_objects(img_cropped)\n",
    "            # Draw objects boundaries\n",
    "            for cnt in contours:\n",
    "            # Get rect\n",
    "                rect = cv2.minAreaRect(cnt)\n",
    "                (x, y), (w, h), angle = rect\n",
    "                # Get Width and Height of the Objects by applying the Ratio pixel to cm\n",
    "                object_width = w / pixel_cm_ratio\n",
    "                object_height = h / pixel_cm_ratio\n",
    "\n",
    "                cv2.putText(img_cropped, \"Width {} cm\".format(round(object_width, 1)), (int(x - 100), int(y - 20)), cv2.FONT_HERSHEY_PLAIN, 2, (100, 200, 0), 2)\n",
    "                cv2.putText(img_cropped, \"Height {} cm\".format(round(object_height, 1)), (int(x - 100), int(y + 15)), cv2.FONT_HERSHEY_PLAIN, 2, (100, 200, 0), 2)\n",
    "\n",
    "        cv2.imshow(\"ROI\", img_cropped)\n",
    " \n",
    "    # Showing original image\n",
    "    cv2.imshow(\"Original Image \", img)\n",
    "    # Mouse click event on original image\n",
    "    cv2.setMouseCallback(\"Original Image \", mousePoints)\n",
    "    # Printing updated point matrix\n",
    "    #print(point_matrix)\n",
    "    # Refreshing window all time\n",
    "    key=cv2.waitKey(1)\n",
    "    if key == 27:\n",
    "        break\n",
    "cap.release()\n",
    "# Destroying present windows on screen\n",
    "cv2.destroyAllWindows() "
   ]
  },
  {
   "cell_type": "code",
   "execution_count": 15,
   "id": "6f542840",
   "metadata": {},
   "outputs": [],
   "source": [
    "#Stage 3"
   ]
  },
  {
   "cell_type": "code",
   "execution_count": 16,
   "id": "39a1de05",
   "metadata": {},
   "outputs": [],
   "source": [
    "#Trying to hide the aurco marker using some sticker"
   ]
  },
  {
   "cell_type": "code",
   "execution_count": 17,
   "id": "030eb771",
   "metadata": {},
   "outputs": [],
   "source": [
    "#OpenCV allows a straightforward interface to capture live stream with the camera (webcam). \n",
    "#It converts video into grayscale and display it.\n",
    "cap=cv2.VideoCapture(0)\n",
    "#The cap.read() returns a boolean value(True/False).It will return True, if the frame is read correctly.\n",
    "\n",
    "\n",
    "#cap.set(cv2.CAP_PROP_FRAME_WIDTH,1280)\n",
    "#cap.set(cv2.CAP_PROP_FRAME_WIDTH,720)"
   ]
  },
  {
   "cell_type": "code",
   "execution_count": 18,
   "id": "0400c6bd",
   "metadata": {},
   "outputs": [],
   "source": [
    "counter = 0\n",
    "def mousePoints(event,x,y,flags,params):\n",
    "    global counter\n",
    "    # Left button mouse click event opencv\n",
    "    if event == cv2.EVENT_LBUTTONDOWN:\n",
    "        point_matrix[counter] = x,y\n",
    "        counter = counter + 1\n",
    " \n",
    "# Read image\n",
    "#img = cv2.imread(\"D:\\\\Gloify\\\\12-11-2021\\\\1.jpg\")\n",
    " \n",
    "while True:\n",
    "        #_,img = cap.read()\n",
    "        _,img_cropped = cap.read()\n",
    "    #for x in range (0,2):\n",
    "    #    cv2.circle(img,(point_matrix[x][0],point_matrix[x][1]),3,(0,255,0),cv2.FILLED)\n",
    " \n",
    "   # if counter == 2:\n",
    "        #starting_x = point_matrix[0][0]\n",
    "        #starting_y = point_matrix[0][1]\n",
    " \n",
    "        #ending_x = point_matrix[1][0]\n",
    "        #ending_y = point_matrix[1][1]\n",
    "        # Draw rectangle for area of interest\n",
    "        #cv2.rectangle(img, (starting_x, starting_y), (ending_x, ending_y), (0, 255, 0), 3)\n",
    " \n",
    "        # Cropping image\n",
    "        #img_cropped = img[starting_y:ending_y, starting_x:ending_x]\n",
    "        corners, ids, _ = cv2.aruco.detectMarkers(img_cropped, aurco_dict, parameters=parameters)\n",
    "        #-----------------------------------------------------------------------------------------#\n",
    "        if np.all(ids != None):\n",
    "            display = aruco.drawDetectedMarkers(img_cropped, corners)\n",
    "            x1 = (corners[0][0][0][0], corners[0][0][0][1]) \n",
    "            x2 = (corners[0][0][1][0], corners[0][0][1][1]) \n",
    "            x3 = (corners[0][0][2][0], corners[0][0][2][1]) \n",
    "            x4 = (corners[0][0][3][0], corners[0][0][3][1])  \n",
    "\n",
    "            im_dst = img_cropped \n",
    "            im_src = cv2.imread(\"D:\\\\Gloify\\\\15-11-2021\\\\Gloify.png\")\n",
    "            size = im_src.shape\n",
    "            pts_dst = np.array([x1,x2,x3,x4])\n",
    "            pts_src = np.array(\n",
    "                           [\n",
    "                            [0,0],\n",
    "                            [size[1] - 1, 0],\n",
    "                            [size[1] - 1, size[0] -1],\n",
    "                            [0, size[0] - 1 ]\n",
    "                            ],dtype=float\n",
    "                           );\n",
    "\n",
    "\n",
    "            h, status = cv2.findHomography(pts_src, pts_dst)\n",
    "            temp = cv2.warpPerspective(im_src, h, (im_dst.shape[1],im_dst.shape[0])) \n",
    "            cv2.fillConvexPoly(im_dst, pts_dst.astype(int), 0, 16);\n",
    "            im_dst = im_dst + temp  \n",
    "            cv2.imshow('Display',im_dst)\n",
    "            key=cv2.waitKey(1)\n",
    "            if key == 27:\n",
    "                break\n",
    "        else:\n",
    "            display = img_cropped\n",
    "            cv2.imshow('Display',display)\n",
    "            key=cv2.waitKey(1)\n",
    "            if key == 27:\n",
    "                break\n",
    "        #------------------------------------------------------------------------------------------------------#\n",
    "        # Draw polygon around the marker\n",
    "        #==================================================================================================\n",
    "        \n",
    "    #=========================================================================================\n",
    " \n",
    "    # Showing original image\n",
    "        #cv2.imshow(\"Original Image \", img)\n",
    "        # Mouse click event on original image\n",
    "        #cv2.setMouseCallback(\"Original Image \", mousePoints)\n",
    "        # Printing updated point matrix\n",
    "        #print(point_matrix)\n",
    "        # Refreshing window all time\n",
    "    #key=cv2.waitKey(1)\n",
    "        #if key == 27:\n",
    "            #break\n",
    "cap.release()\n",
    "# Destroying present windows on screen\n",
    "cv2.destroyAllWindows() "
   ]
  },
  {
   "cell_type": "code",
   "execution_count": null,
   "id": "3865064b",
   "metadata": {},
   "outputs": [],
   "source": [
    "#--------------------------------------------------------END-----------------------------------------------#"
   ]
  },
  {
   "cell_type": "code",
   "execution_count": null,
   "id": "9dd33b0f",
   "metadata": {},
   "outputs": [],
   "source": []
  },
  {
   "cell_type": "code",
   "execution_count": null,
   "id": "7ccdef9c",
   "metadata": {},
   "outputs": [],
   "source": []
  },
  {
   "cell_type": "code",
   "execution_count": null,
   "id": "ce424d3f",
   "metadata": {},
   "outputs": [],
   "source": []
  }
 ],
 "metadata": {
  "kernelspec": {
   "display_name": "Python 3",
   "language": "python",
   "name": "python3"
  },
  "language_info": {
   "codemirror_mode": {
    "name": "ipython",
    "version": 3
   },
   "file_extension": ".py",
   "mimetype": "text/x-python",
   "name": "python",
   "nbconvert_exporter": "python",
   "pygments_lexer": "ipython3",
   "version": "3.6.13"
  }
 },
 "nbformat": 4,
 "nbformat_minor": 5
}
